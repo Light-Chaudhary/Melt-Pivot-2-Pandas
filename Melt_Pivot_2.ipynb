{
 "cells": [
  {
   "cell_type": "code",
   "execution_count": 22,
   "id": "607e0c23-b66c-46e3-835f-79b490b032fc",
   "metadata": {},
   "outputs": [
    {
     "name": "stdout",
     "output_type": "stream",
     "text": [
      "  Grade Student  Subject  Marks\n",
      "0     X    Anna  Science     85\n",
      "1     X   Brian  Science     78\n",
      "2     Y   Cathy  Science     92\n",
      "3     Y   David  Science     74\n",
      "4     X    Anna  History     88\n",
      "5     Y   Cathy  History     90\n",
      "\n",
      "\n",
      "  Grade Student  History  Science\n",
      "0     X    Anna     88.0     85.0\n",
      "1     X   Brian      NaN     78.0\n",
      "2     Y   Cathy     90.0     92.0\n",
      "3     Y   David      NaN     74.0\n",
      "\n",
      "\n",
      "  Grade Student  Subject  Score\n",
      "0     X    Anna  History     88\n",
      "1     Y   Cathy  History     90\n",
      "2     X    Anna  Science     85\n",
      "3     X   Brian  Science     78\n",
      "4     Y   Cathy  Science     92\n",
      "5     Y   David  Science     74\n"
     ]
    }
   ],
   "source": [
    "# Your Pandas Task:\n",
    "# Create a new DataFrame\n",
    "\n",
    "import pandas as pd\n",
    "\n",
    "data = {\n",
    "    'Grade': ['X', 'X', 'Y', 'Y', 'X', 'Y'],\n",
    "    'Student': ['Anna', 'Brian', 'Cathy', 'David', 'Anna', 'Cathy'],\n",
    "    'Subject': ['Science', 'Science', 'Science', 'Science', 'History', 'History'],\n",
    "    'Marks': [85, 78, 92, 74, 88, 90]\n",
    "}\n",
    "\n",
    "df = pd.DataFrame(data)\n",
    "\n",
    "print(df)\n",
    "\n",
    "# Make a pivot table with:\n",
    "\n",
    "# index = ['Grade', 'Student']\n",
    "\n",
    "# columns = 'Subject'\n",
    "\n",
    "# values = 'Marks'\n",
    "\n",
    "# aggfunc = 'mean'\n",
    "\n",
    "# Reset the index and remove the columns name to tidy it.\n",
    "\n",
    "df = df.pivot_table(index = [\"Grade\", \"Student\"], columns = \"Subject\", values = \"Marks\", aggfunc = \"mean\").reset_index()\n",
    "df.columns.name = None\n",
    "print(\"\\n\")\n",
    "print(df)\n",
    "\n",
    "# Melt the pivot table back to long format with columns:\n",
    "\n",
    "# Grade, Student, Subject, Marks\n",
    "\n",
    "# Drop missing values, reset the index, and display the final DataFrame.\n",
    "\n",
    "df = df.melt(id_vars = [\"Grade\", \"Student\"], value_vars = [\"History\", \"Science\"], var_name = \"Subject\", value_name = \"Score\").dropna().reset_index()\n",
    "df = df[[\"Grade\", \"Student\", \"Subject\", \"Score\"]]\n",
    "df[\"Score\"] = df[\"Score\"].astype(int)\n",
    "print(\"\\n\")\n",
    "print(df)"
   ]
  },
  {
   "cell_type": "code",
   "execution_count": null,
   "id": "8861ce78-5f9f-4850-9f37-9ddd104d9678",
   "metadata": {},
   "outputs": [],
   "source": []
  }
 ],
 "metadata": {
  "kernelspec": {
   "display_name": "Python 3 (ipykernel)",
   "language": "python",
   "name": "python3"
  },
  "language_info": {
   "codemirror_mode": {
    "name": "ipython",
    "version": 3
   },
   "file_extension": ".py",
   "mimetype": "text/x-python",
   "name": "python",
   "nbconvert_exporter": "python",
   "pygments_lexer": "ipython3",
   "version": "3.13.5"
  }
 },
 "nbformat": 4,
 "nbformat_minor": 5
}
